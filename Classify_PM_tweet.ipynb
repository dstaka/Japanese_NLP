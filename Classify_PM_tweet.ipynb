{
 "cells": [
  {
   "cell_type": "markdown",
   "metadata": {},
   "source": [
    "# Classifying a set of tweets into real PM's ones and fake ones"
   ]
  },
  {
   "cell_type": "markdown",
   "metadata": {},
   "source": [
    "1. Data preparation\n",
    "2. Exploratory data analysis\n",
    "3. Separating Japanese sentences into words\n",
    "4. Splitting data into training(70%) and testing(30%) dataset\n",
    "5. Model selection by cross-validation\n",
    "6. Evaluating model performance for testing data"
   ]
  },
  {
   "cell_type": "code",
   "execution_count": 1,
   "metadata": {
    "collapsed": false
   },
   "outputs": [
    {
     "name": "stderr",
     "output_type": "stream",
     "text": [
      "/home/da1sc0sg/anaconda3/lib/python3.6/site-packages/sklearn/cross_validation.py:44: DeprecationWarning: This module was deprecated in version 0.18 in favor of the model_selection module into which all the refactored classes and functions are moved. Also note that the interface of the new CV iterators are different from that of this module. This module will be removed in 0.20.\n",
      "  \"This module will be removed in 0.20.\", DeprecationWarning)\n"
     ]
    }
   ],
   "source": [
    "import pandas as pd\n",
    "import numpy as np\n",
    "import matplotlib.pyplot as plt\n",
    "import sys\n",
    "import MeCab\n",
    "import re\n",
    "import random\n",
    "\n",
    "from urllib import request\n",
    "from sklearn.feature_extraction.text import CountVectorizer, TfidfTransformer\n",
    "\n",
    "from sklearn.model_selection import StratifiedShuffleSplit\n",
    "from sklearn.model_selection import train_test_split\n",
    "from sklearn.model_selection import GridSearchCV\n",
    "from sklearn.cross_validation import KFold\n",
    "\n",
    "from sklearn.ensemble import RandomForestClassifier\n",
    "from sklearn import metrics\n",
    "from sklearn.metrics import confusion_matrix\n",
    "from sklearn.preprocessing import Imputer\n",
    "from sklearn.pipeline import make_pipeline\n",
    "from sklearn.pipeline import Pipeline\n",
    "\n",
    "%matplotlib inline"
   ]
  },
  {
   "cell_type": "markdown",
   "metadata": {},
   "source": [
    "# 1. Data preparation"
   ]
  },
  {
   "cell_type": "code",
   "execution_count": 2,
   "metadata": {
    "collapsed": false
   },
   "outputs": [
    {
     "name": "stdout",
     "output_type": "stream",
     "text": [
      "realPM: 1333 tweets, last: 昨日、G7サミットが閉幕しました。 安倍総理と各国首脳の白熱した議論の様子を、1分の動画にまとめました。 是非ご覧ください。 (官邸FBより) https://t.co/CugcuXHfbx Sun Jun 10 11:19:05 +0000 2018\n",
      "fakePM: 3276 tweets, last: 日本では「待機児童」が大問題になっています。しかし、世界のどこの国に、0歳児から保育所に預けて、働き続ける国があるのか。この点から考えていく必要がありそうです。 Fri Jun 15 12:03:15 +0000 2018\n"
     ]
    }
   ],
   "source": [
    "#read and decompose tweets\n",
    "def tw_list_from_text(filepath):\n",
    "    f = open(filepath)\n",
    "    text = f.read()\n",
    "    f.close()\n",
    "    return text.split('\\n')\n",
    "\n",
    "#tweets from real PM\n",
    "realPM_list = tw_list_from_text('./realPM_AbeShinzo.txt')\n",
    "#tweets from fake PM\n",
    "fakePM_list = tw_list_from_text('./fakePM_prime_fake.txt')\n",
    "\n",
    "print(\"realPM: {0} tweets, last: {1}\".format(len(realPM_list), realPM_list[0]))\n",
    "print(\"fakePM: {0} tweets, last: {1}\".format(len(fakePM_list), fakePM_list[0]))"
   ]
  },
  {
   "cell_type": "code",
   "execution_count": 3,
   "metadata": {
    "collapsed": false
   },
   "outputs": [
    {
     "data": {
      "text/plain": [
       "(4608, 2)"
      ]
     },
     "execution_count": 3,
     "metadata": {},
     "output_type": "execute_result"
    }
   ],
   "source": [
    "# concatenate all of tweets data into a dataframe\n",
    "df = pd.DataFrame({'id': 'realPM' , 'body' : realPM_list})\n",
    "df = df.append(pd.DataFrame({'id': 'fakePM', 'body': fakePM_list}), ignore_index=True)\n",
    "df = df.iloc[0:len(df.index)-1]\n",
    "df.shape"
   ]
  },
  {
   "cell_type": "code",
   "execution_count": 4,
   "metadata": {
    "collapsed": false
   },
   "outputs": [
    {
     "name": "stdout",
     "output_type": "stream",
     "text": [
      "fakePM    3275\n",
      "realPM    1333\n",
      "Name: id, dtype: int64\n",
      "0.289279513889\n"
     ]
    }
   ],
   "source": [
    "# check the number of tweets in each id\n",
    "print(df.id.value_counts())\n",
    "print(1.0*(df.id.value_counts()[1])/(df.id.value_counts()[0] + (df.id.value_counts()[1])))"
   ]
  },
  {
   "cell_type": "markdown",
   "metadata": {},
   "source": [
    "Check contents"
   ]
  },
  {
   "cell_type": "code",
   "execution_count": 5,
   "metadata": {
    "collapsed": false
   },
   "outputs": [
    {
     "data": {
      "text/html": [
       "<div>\n",
       "<table border=\"1\" class=\"dataframe\">\n",
       "  <thead>\n",
       "    <tr style=\"text-align: right;\">\n",
       "      <th></th>\n",
       "      <th>body</th>\n",
       "      <th>id</th>\n",
       "    </tr>\n",
       "  </thead>\n",
       "  <tbody>\n",
       "    <tr>\n",
       "      <th>0</th>\n",
       "      <td>昨日、G7サミットが閉幕しました。 安倍総理と各国首脳の白熱した議論の様子を、1分の動画にま...</td>\n",
       "      <td>realPM</td>\n",
       "    </tr>\n",
       "    <tr>\n",
       "      <th>1</th>\n",
       "      <td>課題はあっても、自由で公正なルールに基づく貿易システムを発展させる中で解決を目指す。Ｇ７の一...</td>\n",
       "      <td>realPM</td>\n",
       "    </tr>\n",
       "    <tr>\n",
       "      <th>2</th>\n",
       "      <td>Ｇ７サミットが閉幕しました。 本年は貿易を巡り激しい意見のやりとりとなりました。しかし、会議...</td>\n",
       "      <td>realPM</td>\n",
       "    </tr>\n",
       "    <tr>\n",
       "      <th>3</th>\n",
       "      <td>官邸スタッフです。 安倍総理とトランプ大統領との日米首脳会談、その後の共同記者会見の様子をま...</td>\n",
       "      <td>realPM</td>\n",
       "    </tr>\n",
       "    <tr>\n",
       "      <th>4</th>\n",
       "      <td>RT @realDonaldTrump: Great day of meetings wit...</td>\n",
       "      <td>realPM</td>\n",
       "    </tr>\n",
       "  </tbody>\n",
       "</table>\n",
       "</div>"
      ],
      "text/plain": [
       "                                                body      id\n",
       "0  昨日、G7サミットが閉幕しました。 安倍総理と各国首脳の白熱した議論の様子を、1分の動画にま...  realPM\n",
       "1  課題はあっても、自由で公正なルールに基づく貿易システムを発展させる中で解決を目指す。Ｇ７の一...  realPM\n",
       "2  Ｇ７サミットが閉幕しました。 本年は貿易を巡り激しい意見のやりとりとなりました。しかし、会議...  realPM\n",
       "3  官邸スタッフです。 安倍総理とトランプ大統領との日米首脳会談、その後の共同記者会見の様子をま...  realPM\n",
       "4  RT @realDonaldTrump: Great day of meetings wit...  realPM"
      ]
     },
     "execution_count": 5,
     "metadata": {},
     "output_type": "execute_result"
    }
   ],
   "source": [
    "df.head()"
   ]
  },
  {
   "cell_type": "code",
   "execution_count": 6,
   "metadata": {
    "collapsed": false
   },
   "outputs": [
    {
     "data": {
      "text/html": [
       "<div>\n",
       "<table border=\"1\" class=\"dataframe\">\n",
       "  <thead>\n",
       "    <tr style=\"text-align: right;\">\n",
       "      <th></th>\n",
       "      <th>body</th>\n",
       "      <th>id</th>\n",
       "    </tr>\n",
       "  </thead>\n",
       "  <tbody>\n",
       "    <tr>\n",
       "      <th>4603</th>\n",
       "      <td>不況が深刻化している経済情勢も、来週は山場となりそうです。今は「嵐の前の静けさ」としか言いよ...</td>\n",
       "      <td>fakePM</td>\n",
       "    </tr>\n",
       "    <tr>\n",
       "      <th>4604</th>\n",
       "      <td>高齢者には年金があり、さらに給付金も支給し、盤石の態勢を取ります。とはいえ、若年層の反発は必...</td>\n",
       "      <td>fakePM</td>\n",
       "    </tr>\n",
       "    <tr>\n",
       "      <th>4605</th>\n",
       "      <td>たとえ若年層が全員、投票所に行ったとしても、勝てない現実があります。ここで意味が出てくるのが...</td>\n",
       "      <td>fakePM</td>\n",
       "    </tr>\n",
       "    <tr>\n",
       "      <th>4606</th>\n",
       "      <td>首相が保育所に関する発言で、追及されています。若年層に対する「子育て支援」や「少子化対策」は...</td>\n",
       "      <td>fakePM</td>\n",
       "    </tr>\n",
       "    <tr>\n",
       "      <th>4607</th>\n",
       "      <td>EU離脱をする場合、日本企業にも影響が出ます。EUの税制優遇を受けつつEU広域で事業を進める...</td>\n",
       "      <td>fakePM</td>\n",
       "    </tr>\n",
       "  </tbody>\n",
       "</table>\n",
       "</div>"
      ],
      "text/plain": [
       "                                                   body      id\n",
       "4603  不況が深刻化している経済情勢も、来週は山場となりそうです。今は「嵐の前の静けさ」としか言いよ...  fakePM\n",
       "4604  高齢者には年金があり、さらに給付金も支給し、盤石の態勢を取ります。とはいえ、若年層の反発は必...  fakePM\n",
       "4605  たとえ若年層が全員、投票所に行ったとしても、勝てない現実があります。ここで意味が出てくるのが...  fakePM\n",
       "4606  首相が保育所に関する発言で、追及されています。若年層に対する「子育て支援」や「少子化対策」は...  fakePM\n",
       "4607  EU離脱をする場合、日本企業にも影響が出ます。EUの税制優遇を受けつつEU広域で事業を進める...  fakePM"
      ]
     },
     "execution_count": 6,
     "metadata": {},
     "output_type": "execute_result"
    }
   ],
   "source": [
    "df.tail()"
   ]
  },
  {
   "cell_type": "code",
   "execution_count": 7,
   "metadata": {
    "collapsed": false
   },
   "outputs": [
    {
     "data": {
      "text/plain": [
       "'昨日、G7サミットが閉幕しました。 安倍総理と各国首脳の白熱した議論の様子を、1分の動画にまとめました。 是非ご覧ください。 (官邸FBより) https://t.co/CugcuXHfbx Sun Jun 10 11:19:05 +0000 2018'"
      ]
     },
     "execution_count": 7,
     "metadata": {},
     "output_type": "execute_result"
    }
   ],
   "source": [
    "df.body[0]"
   ]
  },
  {
   "cell_type": "markdown",
   "metadata": {},
   "source": [
    "Create features, a length of tweet and retweet flag."
   ]
  },
  {
   "cell_type": "code",
   "execution_count": 8,
   "metadata": {
    "collapsed": false
   },
   "outputs": [
    {
     "data": {
      "text/html": [
       "<div>\n",
       "<table border=\"1\" class=\"dataframe\">\n",
       "  <thead>\n",
       "    <tr style=\"text-align: right;\">\n",
       "      <th></th>\n",
       "      <th>id</th>\n",
       "      <th>date_info</th>\n",
       "      <th>tweet</th>\n",
       "      <th>tweet_length</th>\n",
       "      <th>RT_flag</th>\n",
       "    </tr>\n",
       "  </thead>\n",
       "  <tbody>\n",
       "    <tr>\n",
       "      <th>0</th>\n",
       "      <td>realPM</td>\n",
       "      <td>Sun Jun 10 11:19:05 +0000 2018</td>\n",
       "      <td>昨日、G7サミットが閉幕しました。 安倍総理と各国首脳の白熱した議論の様子を、1分の動画にま...</td>\n",
       "      <td>95</td>\n",
       "      <td>False</td>\n",
       "    </tr>\n",
       "    <tr>\n",
       "      <th>1</th>\n",
       "      <td>realPM</td>\n",
       "      <td>Sun Jun 10 02:17:00 +0000 2018</td>\n",
       "      <td>課題はあっても、自由で公正なルールに基づく貿易システムを発展させる中で解決を目指す。Ｇ７の一...</td>\n",
       "      <td>87</td>\n",
       "      <td>False</td>\n",
       "    </tr>\n",
       "    <tr>\n",
       "      <th>2</th>\n",
       "      <td>realPM</td>\n",
       "      <td>Sun Jun 10 02:16:52 +0000 2018</td>\n",
       "      <td>Ｇ７サミットが閉幕しました。 本年は貿易を巡り激しい意見のやりとりとなりました。しかし、会議...</td>\n",
       "      <td>126</td>\n",
       "      <td>False</td>\n",
       "    </tr>\n",
       "    <tr>\n",
       "      <th>3</th>\n",
       "      <td>realPM</td>\n",
       "      <td>Fri Jun 08 04:02:28 +0000 2018</td>\n",
       "      <td>官邸スタッフです。 安倍総理とトランプ大統領との日米首脳会談、その後の共同記者会見の様子をま...</td>\n",
       "      <td>95</td>\n",
       "      <td>False</td>\n",
       "    </tr>\n",
       "    <tr>\n",
       "      <th>4</th>\n",
       "      <td>realPM</td>\n",
       "      <td>Fri Jun 08 04:00:08 +0000 2018</td>\n",
       "      <td>RT @realDonaldTrump: Great day of meetings wit...</td>\n",
       "      <td>107</td>\n",
       "      <td>True</td>\n",
       "    </tr>\n",
       "  </tbody>\n",
       "</table>\n",
       "</div>"
      ],
      "text/plain": [
       "       id                        date_info  \\\n",
       "0  realPM   Sun Jun 10 11:19:05 +0000 2018   \n",
       "1  realPM   Sun Jun 10 02:17:00 +0000 2018   \n",
       "2  realPM   Sun Jun 10 02:16:52 +0000 2018   \n",
       "3  realPM   Fri Jun 08 04:02:28 +0000 2018   \n",
       "4  realPM   Fri Jun 08 04:00:08 +0000 2018   \n",
       "\n",
       "                                               tweet  tweet_length RT_flag  \n",
       "0  昨日、G7サミットが閉幕しました。 安倍総理と各国首脳の白熱した議論の様子を、1分の動画にま...            95   False  \n",
       "1  課題はあっても、自由で公正なルールに基づく貿易システムを発展させる中で解決を目指す。Ｇ７の一...            87   False  \n",
       "2  Ｇ７サミットが閉幕しました。 本年は貿易を巡り激しい意見のやりとりとなりました。しかし、会議...           126   False  \n",
       "3  官邸スタッフです。 安倍総理とトランプ大統領との日米首脳会談、その後の共同記者会見の様子をま...            95   False  \n",
       "4  RT @realDonaldTrump: Great day of meetings wit...           107    True  "
      ]
     },
     "execution_count": 8,
     "metadata": {},
     "output_type": "execute_result"
    }
   ],
   "source": [
    "# split body of each tweet into content and date information\n",
    "df['date_info'] = [line[-31:] for line in df['body']]\n",
    "df['tweet'] = [line[:len(line)-31] for line in df['body']]\n",
    "# remove original body of tweets\n",
    "df = df.iloc[:, df.columns != 'body']\n",
    "# add column containing information of a length of tweet \n",
    "df['tweet_length'] = [ len(tw) for tw in df['tweet'] ]\n",
    "# add column showing if a tweet is Retweet or not \n",
    "df['RT_flag'] = [s[0:2] == 'RT' for s in df['tweet']]\n",
    "\n",
    "df.head()"
   ]
  },
  {
   "cell_type": "code",
   "execution_count": 9,
   "metadata": {
    "collapsed": false
   },
   "outputs": [
    {
     "data": {
      "text/html": [
       "<div>\n",
       "<table border=\"1\" class=\"dataframe\">\n",
       "  <thead>\n",
       "    <tr style=\"text-align: right;\">\n",
       "      <th></th>\n",
       "      <th>id</th>\n",
       "      <th>date_info</th>\n",
       "      <th>tweet</th>\n",
       "      <th>tweet_length</th>\n",
       "      <th>RT_flag</th>\n",
       "    </tr>\n",
       "  </thead>\n",
       "  <tbody>\n",
       "    <tr>\n",
       "      <th>4603</th>\n",
       "      <td>fakePM</td>\n",
       "      <td>Fri Mar 11 20:31:37 +0000 2016</td>\n",
       "      <td>不況が深刻化している経済情勢も、来週は山場となりそうです。今は「嵐の前の静けさ」としか言いよ...</td>\n",
       "      <td>54</td>\n",
       "      <td>False</td>\n",
       "    </tr>\n",
       "    <tr>\n",
       "      <th>4604</th>\n",
       "      <td>fakePM</td>\n",
       "      <td>Fri Mar 11 20:29:55 +0000 2016</td>\n",
       "      <td>高齢者には年金があり、さらに給付金も支給し、盤石の態勢を取ります。とはいえ、若年層の反発は必...</td>\n",
       "      <td>66</td>\n",
       "      <td>False</td>\n",
       "    </tr>\n",
       "    <tr>\n",
       "      <th>4605</th>\n",
       "      <td>fakePM</td>\n",
       "      <td>Fri Mar 11 20:28:05 +0000 2016</td>\n",
       "      <td>たとえ若年層が全員、投票所に行ったとしても、勝てない現実があります。ここで意味が出てくるのが...</td>\n",
       "      <td>58</td>\n",
       "      <td>False</td>\n",
       "    </tr>\n",
       "    <tr>\n",
       "      <th>4606</th>\n",
       "      <td>fakePM</td>\n",
       "      <td>Fri Mar 11 20:26:45 +0000 2016</td>\n",
       "      <td>首相が保育所に関する発言で、追及されています。若年層に対する「子育て支援」や「少子化対策」は...</td>\n",
       "      <td>65</td>\n",
       "      <td>False</td>\n",
       "    </tr>\n",
       "    <tr>\n",
       "      <th>4607</th>\n",
       "      <td>fakePM</td>\n",
       "      <td>Wed Mar 09 22:18:46 +0000 2016</td>\n",
       "      <td>EU離脱をする場合、日本企業にも影響が出ます。EUの税制優遇を受けつつEU広域で事業を進める...</td>\n",
       "      <td>66</td>\n",
       "      <td>False</td>\n",
       "    </tr>\n",
       "  </tbody>\n",
       "</table>\n",
       "</div>"
      ],
      "text/plain": [
       "          id                        date_info  \\\n",
       "4603  fakePM   Fri Mar 11 20:31:37 +0000 2016   \n",
       "4604  fakePM   Fri Mar 11 20:29:55 +0000 2016   \n",
       "4605  fakePM   Fri Mar 11 20:28:05 +0000 2016   \n",
       "4606  fakePM   Fri Mar 11 20:26:45 +0000 2016   \n",
       "4607  fakePM   Wed Mar 09 22:18:46 +0000 2016   \n",
       "\n",
       "                                                  tweet  tweet_length RT_flag  \n",
       "4603  不況が深刻化している経済情勢も、来週は山場となりそうです。今は「嵐の前の静けさ」としか言いよ...            54   False  \n",
       "4604  高齢者には年金があり、さらに給付金も支給し、盤石の態勢を取ります。とはいえ、若年層の反発は必...            66   False  \n",
       "4605  たとえ若年層が全員、投票所に行ったとしても、勝てない現実があります。ここで意味が出てくるのが...            58   False  \n",
       "4606  首相が保育所に関する発言で、追及されています。若年層に対する「子育て支援」や「少子化対策」は...            65   False  \n",
       "4607  EU離脱をする場合、日本企業にも影響が出ます。EUの税制優遇を受けつつEU広域で事業を進める...            66   False  "
      ]
     },
     "execution_count": 9,
     "metadata": {},
     "output_type": "execute_result"
    }
   ],
   "source": [
    "df.tail()"
   ]
  },
  {
   "cell_type": "markdown",
   "metadata": {},
   "source": [
    "# 2. Exploratory data analysis"
   ]
  },
  {
   "cell_type": "code",
   "execution_count": 10,
   "metadata": {
    "collapsed": false
   },
   "outputs": [
    {
     "data": {
      "text/plain": [
       "array([[<matplotlib.axes._subplots.AxesSubplot object at 0x7fb9d40311d0>]], dtype=object)"
      ]
     },
     "execution_count": 10,
     "metadata": {},
     "output_type": "execute_result"
    },
    {
     "data": {
      "image/png": "[encoded data removed]",
      "text/plain": [
       "<matplotlib.figure.Figure at 0x7fb9d4031630>"
      ]
     },
     "metadata": {},
     "output_type": "display_data"
    }
   ],
   "source": [
    "# check distribution of a length of tweets\n",
    "df.hist(column='tweet_length')"
   ]
  },
  {
   "cell_type": "markdown",
   "metadata": {},
   "source": [
    "There are two peaks of the number of characters in each tweet, around 60 characters and 140 characters.\n",
    "(In Japanese, upper limit of the number of characters is 140 given Twitter's specification.)"
   ]
  },
  {
   "cell_type": "code",
   "execution_count": 11,
   "metadata": {
    "collapsed": false
   },
   "outputs": [
    {
     "data": {
      "text/plain": [
       "array([[<matplotlib.axes._subplots.AxesSubplot object at 0x7fb9d0a8f780>,\n",
       "        <matplotlib.axes._subplots.AxesSubplot object at 0x7fb9d09a0208>],\n",
       "       [<matplotlib.axes._subplots.AxesSubplot object at 0x7fb9d090b588>,\n",
       "        <matplotlib.axes._subplots.AxesSubplot object at 0x7fb9d08dfac8>]], dtype=object)"
      ]
     },
     "execution_count": 11,
     "metadata": {},
     "output_type": "execute_result"
    },
    {
     "data": {
      "image/png": "[encoded data removed]",
      "text/plain": [
       "<matplotlib.figure.Figure at 0x7fb9d0a402b0>"
      ]
     },
     "metadata": {},
     "output_type": "display_data"
    }
   ],
   "source": [
    "# check distribution of a length of tweets by user and RT\n",
    "df.hist(column='tweet_length', by=['id', 'RT_flag'], figsize=(12,10), sharex=True, sharey=True)"
   ]
  },
  {
   "cell_type": "markdown",
   "metadata": {},
   "source": [
    "- realPM tends to tweet near upper limit to the number of characters that a user can tweet compared to fakePM does.\n",
    "\n",
    "- fakePM does more retweet than realPM."
   ]
  },
  {
   "cell_type": "code",
   "execution_count": 12,
   "metadata": {
    "collapsed": false
   },
   "outputs": [
    {
     "data": {
      "text/plain": [
       "<matplotlib.axes._subplots.AxesSubplot at 0x7fb9d039fc50>"
      ]
     },
     "execution_count": 12,
     "metadata": {},
     "output_type": "execute_result"
    },
    {
     "data": {
      "image/png": "[encoded data removed]",
      "text/plain": [
       "<matplotlib.figure.Figure at 0x7fb9d044c748>"
      ]
     },
     "metadata": {},
     "output_type": "display_data"
    }
   ],
   "source": [
    "# create dataframe to compute the rate of retweet\n",
    "df_RTtrate = pd.DataFrame()\n",
    "df_RTtrate['tweet_count'] = df.groupby('id')['tweet'].count()\n",
    "df_RTtrate['RT_count'] = df.groupby('id')['RT_flag'].sum()\n",
    "df_RTtrate['RT_rate'] = df_RTtrate['RT_count'] / df_RTtrate['tweet_count']\n",
    "df_RTtrate['RT_rate'].plot(kind='bar')"
   ]
  },
  {
   "cell_type": "markdown",
   "metadata": {},
   "source": [
    "The retweet rate of fakePM is more than 14% while that of realPM is less than 2%."
   ]
  },
  {
   "cell_type": "markdown",
   "metadata": {},
   "source": [
    "# 3. Separating Japanese sentences into words"
   ]
  },
  {
   "cell_type": "markdown",
   "metadata": {
    "collapsed": true
   },
   "source": [
    "Here, I will demonstrate how MeCab works to separate Japanese words."
   ]
  },
  {
   "cell_type": "code",
   "execution_count": 13,
   "metadata": {
    "collapsed": false
   },
   "outputs": [
    {
     "name": "stdout",
     "output_type": "stream",
     "text": [
      "0    昨日、G7サミットが閉幕しました。 安倍総理と各国首脳の白熱した議論の様子を、1分の動画にま...\n",
      "1    課題はあっても、自由で公正なルールに基づく貿易システムを発展させる中で解決を目指す。Ｇ７の一...\n",
      "2    Ｇ７サミットが閉幕しました。 本年は貿易を巡り激しい意見のやりとりとなりました。しかし、会議...\n",
      "3    官邸スタッフです。 安倍総理とトランプ大統領との日米首脳会談、その後の共同記者会見の様子をま...\n",
      "4    RT @realDonaldTrump: Great day of meetings wit...\n",
      "Name: tweet, dtype: object\n",
      "0    realPM\n",
      "1    realPM\n",
      "2    realPM\n",
      "3    realPM\n",
      "4    realPM\n",
      "Name: id, dtype: object\n"
     ]
    }
   ],
   "source": [
    "X = df['tweet']\n",
    "print(X.head())\n",
    "\n",
    "y = df['id']\n",
    "print(y.head())"
   ]
  },
  {
   "cell_type": "code",
   "execution_count": 14,
   "metadata": {
    "collapsed": true
   },
   "outputs": [],
   "source": [
    "# use Mecab with mecab-ipadic-NEologd\n",
    "tagger = MeCab.Tagger('-Ochasen -d /usr/lib/mecab/dic/mecab-ipadic-neologd')"
   ]
  },
  {
   "cell_type": "code",
   "execution_count": 15,
   "metadata": {
    "collapsed": false
   },
   "outputs": [
    {
     "data": {
      "text/html": [
       "<div>\n",
       "<table border=\"1\" class=\"dataframe\">\n",
       "  <thead>\n",
       "    <tr style=\"text-align: right;\">\n",
       "      <th></th>\n",
       "      <th>0</th>\n",
       "      <th>1</th>\n",
       "      <th>2</th>\n",
       "      <th>3</th>\n",
       "      <th>4</th>\n",
       "      <th>5</th>\n",
       "    </tr>\n",
       "  </thead>\n",
       "  <tbody>\n",
       "    <tr>\n",
       "      <th>0</th>\n",
       "      <td>伊勢神宮</td>\n",
       "      <td>イセジングウ</td>\n",
       "      <td>伊勢神宮</td>\n",
       "      <td>名詞-固有名詞-一般</td>\n",
       "      <td></td>\n",
       "      <td></td>\n",
       "    </tr>\n",
       "    <tr>\n",
       "      <th>1</th>\n",
       "      <td>にて</td>\n",
       "      <td>ニテ</td>\n",
       "      <td>にて</td>\n",
       "      <td>助詞-格助詞-一般</td>\n",
       "      <td></td>\n",
       "      <td></td>\n",
       "    </tr>\n",
       "    <tr>\n",
       "      <th>2</th>\n",
       "      <td>年頭</td>\n",
       "      <td>ネントウ</td>\n",
       "      <td>年頭</td>\n",
       "      <td>名詞-一般</td>\n",
       "      <td></td>\n",
       "      <td></td>\n",
       "    </tr>\n",
       "    <tr>\n",
       "      <th>3</th>\n",
       "      <td>の</td>\n",
       "      <td>ノ</td>\n",
       "      <td>の</td>\n",
       "      <td>助詞-連体化</td>\n",
       "      <td></td>\n",
       "      <td></td>\n",
       "    </tr>\n",
       "    <tr>\n",
       "      <th>4</th>\n",
       "      <td>記者会見</td>\n",
       "      <td>キシャカイケン</td>\n",
       "      <td>記者会見</td>\n",
       "      <td>名詞-固有名詞-一般</td>\n",
       "      <td></td>\n",
       "      <td></td>\n",
       "    </tr>\n",
       "    <tr>\n",
       "      <th>5</th>\n",
       "      <td>に</td>\n",
       "      <td>ニ</td>\n",
       "      <td>に</td>\n",
       "      <td>助詞-格助詞-一般</td>\n",
       "      <td></td>\n",
       "      <td></td>\n",
       "    </tr>\n",
       "    <tr>\n",
       "      <th>6</th>\n",
       "      <td>臨み</td>\n",
       "      <td>ノゾミ</td>\n",
       "      <td>臨む</td>\n",
       "      <td>動詞-自立</td>\n",
       "      <td>五段・マ行</td>\n",
       "      <td>連用形</td>\n",
       "    </tr>\n",
       "    <tr>\n",
       "      <th>7</th>\n",
       "      <td>まし</td>\n",
       "      <td>マシ</td>\n",
       "      <td>ます</td>\n",
       "      <td>助動詞</td>\n",
       "      <td>特殊・マス</td>\n",
       "      <td>連用形</td>\n",
       "    </tr>\n",
       "    <tr>\n",
       "      <th>8</th>\n",
       "      <td>た</td>\n",
       "      <td>タ</td>\n",
       "      <td>た</td>\n",
       "      <td>助動詞</td>\n",
       "      <td>特殊・タ</td>\n",
       "      <td>基本形</td>\n",
       "    </tr>\n",
       "    <tr>\n",
       "      <th>9</th>\n",
       "      <td>。</td>\n",
       "      <td>。</td>\n",
       "      <td>。</td>\n",
       "      <td>記号-句点</td>\n",
       "      <td></td>\n",
       "      <td></td>\n",
       "    </tr>\n",
       "    <tr>\n",
       "      <th>10</th>\n",
       "      <td>本年</td>\n",
       "      <td>ホンネン</td>\n",
       "      <td>本年</td>\n",
       "      <td>名詞-副詞可能</td>\n",
       "      <td></td>\n",
       "      <td></td>\n",
       "    </tr>\n",
       "    <tr>\n",
       "      <th>11</th>\n",
       "      <td>が</td>\n",
       "      <td>ガ</td>\n",
       "      <td>が</td>\n",
       "      <td>助詞-格助詞-一般</td>\n",
       "      <td></td>\n",
       "      <td></td>\n",
       "    </tr>\n",
       "    <tr>\n",
       "      <th>12</th>\n",
       "      <td>皆さん</td>\n",
       "      <td>ミナサン</td>\n",
       "      <td>皆さん</td>\n",
       "      <td>名詞-一般</td>\n",
       "      <td></td>\n",
       "      <td></td>\n",
       "    </tr>\n",
       "    <tr>\n",
       "      <th>13</th>\n",
       "      <td>にとって</td>\n",
       "      <td>ニトッテ</td>\n",
       "      <td>にとって</td>\n",
       "      <td>助詞-格助詞-連語</td>\n",
       "      <td></td>\n",
       "      <td></td>\n",
       "    </tr>\n",
       "    <tr>\n",
       "      <th>14</th>\n",
       "      <td>素晴らしい</td>\n",
       "      <td>スバラシイ</td>\n",
       "      <td>素晴らしい</td>\n",
       "      <td>形容詞-自立</td>\n",
       "      <td>形容詞・イ段</td>\n",
       "      <td>基本形</td>\n",
       "    </tr>\n",
       "    <tr>\n",
       "      <th>15</th>\n",
       "      <td>一年</td>\n",
       "      <td>イチネン</td>\n",
       "      <td>1年</td>\n",
       "      <td>名詞-固有名詞-一般</td>\n",
       "      <td></td>\n",
       "      <td></td>\n",
       "    </tr>\n",
       "    <tr>\n",
       "      <th>16</th>\n",
       "      <td>と</td>\n",
       "      <td>ト</td>\n",
       "      <td>と</td>\n",
       "      <td>助詞-格助詞-一般</td>\n",
       "      <td></td>\n",
       "      <td></td>\n",
       "    </tr>\n",
       "    <tr>\n",
       "      <th>17</th>\n",
       "      <td>なる</td>\n",
       "      <td>ナル</td>\n",
       "      <td>なる</td>\n",
       "      <td>動詞-自立</td>\n",
       "      <td>五段・ラ行</td>\n",
       "      <td>基本形</td>\n",
       "    </tr>\n",
       "    <tr>\n",
       "      <th>18</th>\n",
       "      <td>こと</td>\n",
       "      <td>コト</td>\n",
       "      <td>こと</td>\n",
       "      <td>名詞-非自立-一般</td>\n",
       "      <td></td>\n",
       "      <td></td>\n",
       "    </tr>\n",
       "    <tr>\n",
       "      <th>19</th>\n",
       "      <td>を</td>\n",
       "      <td>ヲ</td>\n",
       "      <td>を</td>\n",
       "      <td>助詞-格助詞-一般</td>\n",
       "      <td></td>\n",
       "      <td></td>\n",
       "    </tr>\n",
       "    <tr>\n",
       "      <th>20</th>\n",
       "      <td>お祈り</td>\n",
       "      <td>オイノリ</td>\n",
       "      <td>お祈り</td>\n",
       "      <td>名詞-サ変接続</td>\n",
       "      <td></td>\n",
       "      <td></td>\n",
       "    </tr>\n",
       "    <tr>\n",
       "      <th>21</th>\n",
       "      <td>し</td>\n",
       "      <td>シ</td>\n",
       "      <td>する</td>\n",
       "      <td>動詞-自立</td>\n",
       "      <td>サ変・スル</td>\n",
       "      <td>連用形</td>\n",
       "    </tr>\n",
       "    <tr>\n",
       "      <th>22</th>\n",
       "      <td>て</td>\n",
       "      <td>テ</td>\n",
       "      <td>て</td>\n",
       "      <td>助詞-接続助詞</td>\n",
       "      <td></td>\n",
       "      <td></td>\n",
       "    </tr>\n",
       "    <tr>\n",
       "      <th>23</th>\n",
       "      <td>おり</td>\n",
       "      <td>オリ</td>\n",
       "      <td>おる</td>\n",
       "      <td>動詞-非自立</td>\n",
       "      <td>五段・ラ行</td>\n",
       "      <td>連用形</td>\n",
       "    </tr>\n",
       "    <tr>\n",
       "      <th>24</th>\n",
       "      <td>ます</td>\n",
       "      <td>マス</td>\n",
       "      <td>ます</td>\n",
       "      <td>助動詞</td>\n",
       "      <td>特殊・マス</td>\n",
       "      <td>基本形</td>\n",
       "    </tr>\n",
       "    <tr>\n",
       "      <th>25</th>\n",
       "      <td>。</td>\n",
       "      <td>。</td>\n",
       "      <td>。</td>\n",
       "      <td>記号-句点</td>\n",
       "      <td></td>\n",
       "      <td></td>\n",
       "    </tr>\n",
       "    <tr>\n",
       "      <th>26</th>\n",
       "      <td>EOS</td>\n",
       "      <td>None</td>\n",
       "      <td>None</td>\n",
       "      <td>None</td>\n",
       "      <td>None</td>\n",
       "      <td>None</td>\n",
       "    </tr>\n",
       "    <tr>\n",
       "      <th>27</th>\n",
       "      <td></td>\n",
       "      <td>None</td>\n",
       "      <td>None</td>\n",
       "      <td>None</td>\n",
       "      <td>None</td>\n",
       "      <td>None</td>\n",
       "    </tr>\n",
       "  </tbody>\n",
       "</table>\n",
       "</div>"
      ],
      "text/plain": [
       "        0        1      2           3       4     5\n",
       "0    伊勢神宮   イセジングウ   伊勢神宮  名詞-固有名詞-一般              \n",
       "1      にて       ニテ     にて   助詞-格助詞-一般              \n",
       "2      年頭     ネントウ     年頭       名詞-一般              \n",
       "3       の        ノ      の      助詞-連体化              \n",
       "4    記者会見  キシャカイケン   記者会見  名詞-固有名詞-一般              \n",
       "5       に        ニ      に   助詞-格助詞-一般              \n",
       "6      臨み      ノゾミ     臨む       動詞-自立   五段・マ行   連用形\n",
       "7      まし       マシ     ます         助動詞   特殊・マス   連用形\n",
       "8       た        タ      た         助動詞    特殊・タ   基本形\n",
       "9       。        。      。       記号-句点              \n",
       "10     本年     ホンネン     本年     名詞-副詞可能              \n",
       "11      が        ガ      が   助詞-格助詞-一般              \n",
       "12    皆さん     ミナサン    皆さん       名詞-一般              \n",
       "13   にとって     ニトッテ   にとって   助詞-格助詞-連語              \n",
       "14  素晴らしい    スバラシイ  素晴らしい      形容詞-自立  形容詞・イ段   基本形\n",
       "15     一年     イチネン     1年  名詞-固有名詞-一般              \n",
       "16      と        ト      と   助詞-格助詞-一般              \n",
       "17     なる       ナル     なる       動詞-自立   五段・ラ行   基本形\n",
       "18     こと       コト     こと   名詞-非自立-一般              \n",
       "19      を        ヲ      を   助詞-格助詞-一般              \n",
       "20    お祈り     オイノリ    お祈り     名詞-サ変接続              \n",
       "21      し        シ     する       動詞-自立   サ変・スル   連用形\n",
       "22      て        テ      て     助詞-接続助詞              \n",
       "23     おり       オリ     おる      動詞-非自立   五段・ラ行   連用形\n",
       "24     ます       マス     ます         助動詞   特殊・マス   基本形\n",
       "25      。        。      。       記号-句点              \n",
       "26    EOS     None   None        None    None  None\n",
       "27            None   None        None    None  None"
      ]
     },
     "execution_count": 15,
     "metadata": {},
     "output_type": "execute_result"
    }
   ],
   "source": [
    "# show example output of word separating by MeCab\n",
    "#parsed_ex_list = tagger.parse(re.sub('https?://[\\w/:%#\\$&\\?\\(\\)~\\.=\\+\\-]+', ' ', df.loc[0, 'tweet']))\n",
    "parsed_ex_list = tagger.parse(re.sub('https?://[\\w/:%#\\$&\\?\\(\\)~\\.=\\+\\-]+', ' ', X[40]))\n",
    "parsed_ex_df = pd.DataFrame( [line.replace('\\t', ',').split(',') for line in parsed_ex_list.split('\\n')] )\n",
    "parsed_ex_df"
   ]
  },
  {
   "cell_type": "markdown",
   "metadata": {},
   "source": [
    "Thus, MeCab can split sentences into a word."
   ]
  },
  {
   "cell_type": "markdown",
   "metadata": {},
   "source": [
    "Create stopwords list"
   ]
  },
  {
   "cell_type": "code",
   "execution_count": 16,
   "metadata": {
    "collapsed": true
   },
   "outputs": [],
   "source": [
    "# remove both Japanese and English stopwords from a tweet because some of tweets include English text\n",
    "response = request.urlopen('http://svn.sourceforge.jp/svnroot/slothlib/CSharp/Version1/SlothLib/NLP/Filter/StopWord/word/Japanese.txt')\n",
    "stopwords = [line.decode('utf-8').strip() for line in response]\n",
    "response = request.urlopen('http://svn.sourceforge.jp/svnroot/slothlib/CSharp/Version1/SlothLib/NLP/Filter/StopWord/word/English.txt')\n",
    "stopwords += [line.decode('utf-8').strip() for line in response]\n",
    "stopwords += ['RT', 'AbeShinzo', 'Prime_fake'] #remove words \"RT\" and Twitter account names"
   ]
  },
  {
   "cell_type": "markdown",
   "metadata": {},
   "source": [
    "Extract word vector features by Morphological Analysis"
   ]
  },
  {
   "cell_type": "code",
   "execution_count": 17,
   "metadata": {
    "collapsed": false
   },
   "outputs": [
    {
     "name": "stdout",
     "output_type": "stream",
     "text": [
      "['課題', 'は', 'あっ', 'て', 'も', '、', '自由', 'で', '公正', 'な', 'ルール', 'に', '基づく', '貿易', 'システム', 'を', '発展', 'さ', 'せる', 'で', '解決', 'を', '目指す', '。', 'Ｇ７', 'の', '一致', 'し', 'た', '意志', 'を', '示す', 'が', 'でき']\n",
      "['Ｇ７', 'サミット', 'が', '閉幕', 'し', 'た', '。', '本年', 'は', '貿易', 'を', '巡り', '激しい', '意見', 'の', 'やりとり', 'と', 'なり', 'た', '。', 'しかし', '、', '会議', 'の', 'に', '出て', 'も', '、', '昨日', 'は', '夜遅く', 'まで', '、', '本日', 'も', '朝', '早くから', '、', '首脳', '同士', 'が', '、', '直接', '、', '膝詰め', 'で', '議論', 'を', '重ね', '、', '合意', 'に', '達し']\n"
     ]
    }
   ],
   "source": [
    "# create list of words\n",
    "def create_wordlist(_content, _tagger=tagger):\n",
    "    # parse whole tweets while removing URL characters from a tweet because URL information is not useful for the classification\n",
    "    parsed = _tagger.parse(re.sub('https?://[\\w/:%#\\$&\\?\\(\\)~\\.=\\+\\-]+', ' ', _content))\n",
    "    # split tweet by line feed code\n",
    "    word_list = parsed.split('\\n')\n",
    "    # extract noun from each tweet\n",
    "    #word_list = [s for s in word_list if re.match('.*\\t.*\\t.*\\t名詞', s)]\n",
    "    word_list = [line.split('\\t')[0] for line in word_list]\n",
    "    # remove stopwords\n",
    "    word_list = [word for word in word_list[:-2] if word not in stopwords]\n",
    "    # remove nouns which only contain figures(e.g. 2018)\n",
    "    word_list = [word for word in word_list[:-2] if not word.isnumeric()]\n",
    "    return word_list\n",
    "\n",
    "# test output of the function\n",
    "print(create_wordlist(X[1], tagger))\n",
    "print(create_wordlist(X[2], tagger))"
   ]
  },
  {
   "cell_type": "code",
   "execution_count": 18,
   "metadata": {
    "collapsed": false
   },
   "outputs": [],
   "source": [
    "#create CountVectorizer object\n",
    "cvec = CountVectorizer(analyzer=create_wordlist, stop_words=stopwords)\n",
    "# create word set of the tweets\n",
    "cvec.fit(X)\n",
    "# store names of word vectors\n",
    "c_terms = cvec.get_feature_names()"
   ]
  },
  {
   "cell_type": "code",
   "execution_count": 19,
   "metadata": {
    "collapsed": false
   },
   "outputs": [
    {
     "data": {
      "text/plain": [
       "(4608, 15737)"
      ]
     },
     "execution_count": 19,
     "metadata": {},
     "output_type": "execute_result"
    }
   ],
   "source": [
    "# create a document-term matrix from all of the training data\n",
    "X_dtm = cvec.fit_transform(X)\n",
    "X_dtm.shape"
   ]
  },
  {
   "cell_type": "code",
   "execution_count": 20,
   "metadata": {
    "collapsed": false
   },
   "outputs": [
    {
     "name": "stdout",
     "output_type": "stream",
     "text": [
      "15737\n",
      "['Saigai', '鳥越俊太郎', '角度', '起ころ', 'それにしても', 'TonyAbbottMHR', '繰り返さ', '独居老人', '真正面', '坂の上の雲', '見つかっ', '主流派', '死没', '比べる', '落城', '小田急', 'こういう', '麻痺', '始業', '仰っ', 'ドコモ', '現実的', 'シンガポール', '切り口', '未来', '婿', 'Ise', '二の舞', '給付型奨学金', '仮設住宅', '通商', 'おいしい', '12年', 'Q2', '創業者', '実態', 'Tanigawa', '公報', '時に', 'SUPER GT', '東急スクエア', '付けれ', '生き方', 'きい', '一般会計', '繋げ', '抱える', 'ギルド', '障害者雇用', 'NO']\n"
     ]
    }
   ],
   "source": [
    "# check features that were created\n",
    "print(len(cvec.get_feature_names()))\n",
    "print(random.sample(cvec.get_feature_names(), 50))"
   ]
  },
  {
   "cell_type": "markdown",
   "metadata": {},
   "source": [
    "Next, model selection and evaluation are conducted."
   ]
  },
  {
   "cell_type": "markdown",
   "metadata": {},
   "source": [
    "# 4. Splitting data into training(70%) and testing(30%) dataset"
   ]
  },
  {
   "cell_type": "code",
   "execution_count": 21,
   "metadata": {
    "collapsed": false
   },
   "outputs": [
    {
     "name": "stdout",
     "output_type": "stream",
     "text": [
      "(4608,)\n",
      "0    昨日、G7サミットが閉幕しました。 安倍総理と各国首脳の白熱した議論の様子を、1分の動画にま...\n",
      "1    課題はあっても、自由で公正なルールに基づく貿易システムを発展させる中で解決を目指す。Ｇ７の一...\n",
      "2    Ｇ７サミットが閉幕しました。 本年は貿易を巡り激しい意見のやりとりとなりました。しかし、会議...\n",
      "3    官邸スタッフです。 安倍総理とトランプ大統領との日米首脳会談、その後の共同記者会見の様子をま...\n",
      "4    RT @realDonaldTrump: Great day of meetings wit...\n",
      "Name: tweet, dtype: object\n",
      "\n",
      "(4608,)\n",
      "0    realPM\n",
      "1    realPM\n",
      "2    realPM\n",
      "3    realPM\n",
      "4    realPM\n",
      "Name: id, dtype: object\n"
     ]
    }
   ],
   "source": [
    "print(X.shape)\n",
    "print(X.head())\n",
    "print()\n",
    "print(y.shape)\n",
    "print(y.head())"
   ]
  },
  {
   "cell_type": "code",
   "execution_count": 22,
   "metadata": {
    "collapsed": false
   },
   "outputs": [],
   "source": [
    "sss = StratifiedShuffleSplit(n_splits=2, test_size=0.9, random_state=1021)\n",
    "for train_index, test_index in sss.split(X, y):\n",
    "    X_train, X_test = X.iloc[train_index], X.iloc[test_index]\n",
    "    y_train, y_test = y[train_index], y[test_index]"
   ]
  },
  {
   "cell_type": "code",
   "execution_count": 23,
   "metadata": {
    "collapsed": false
   },
   "outputs": [
    {
     "name": "stdout",
     "output_type": "stream",
     "text": [
      "(460,)\n",
      "(4148,)\n",
      "(460,)\n",
      "(4148,)\n",
      "\n",
      "fakePM    327\n",
      "realPM    133\n",
      "Name: id, dtype: int64\n",
      "fakePM    2948\n",
      "realPM    1200\n",
      "Name: id, dtype: int64\n",
      "\n",
      "0.289130434783\n",
      "0.289296046287\n"
     ]
    }
   ],
   "source": [
    "print(X_train.shape)\n",
    "print(X_test.shape)\n",
    "print(y_train.shape)\n",
    "print(y_test.shape)\n",
    "print()\n",
    "print(y_train.value_counts())\n",
    "print(y_test.value_counts())\n",
    "print()\n",
    "#check positive/negative ratio in Target\n",
    "print(1.0*(y_train.value_counts()[1])/(y_train.value_counts()[0] + y_train.value_counts()[1]))\n",
    "print(1.0*(y_test.value_counts()[1])/(y_test.value_counts()[0] + y_test.value_counts()[1]))"
   ]
  },
  {
   "cell_type": "code",
   "execution_count": 24,
   "metadata": {
    "collapsed": false
   },
   "outputs": [
    {
     "data": {
      "text/plain": [
       "dict_keys(['bootstrap', 'class_weight', 'criterion', 'max_depth', 'max_features', 'max_leaf_nodes', 'min_impurity_split', 'min_samples_leaf', 'min_samples_split', 'min_weight_fraction_leaf', 'n_estimators', 'n_jobs', 'oob_score', 'random_state', 'verbose', 'warm_start'])"
      ]
     },
     "execution_count": 24,
     "metadata": {},
     "output_type": "execute_result"
    }
   ],
   "source": [
    "rf = RandomForestClassifier(random_state=1021) \n",
    "rf.get_params().keys()"
   ]
  },
  {
   "cell_type": "markdown",
   "metadata": {},
   "source": [
    "# 5. Model selection by cross-validation"
   ]
  },
  {
   "cell_type": "markdown",
   "metadata": {
    "collapsed": true
   },
   "source": [
    "To do proper cross-validation, feature creation (via CountVectorizer) should be executed withing each fold of cross-validation."
   ]
  },
  {
   "cell_type": "code",
   "execution_count": 25,
   "metadata": {
    "collapsed": false
   },
   "outputs": [],
   "source": [
    "# define '1' as a missing value and impute a replacement using the median\n",
    "imp = Imputer(missing_values=1, strategy='median')"
   ]
  },
  {
   "cell_type": "code",
   "execution_count": 26,
   "metadata": {
    "collapsed": false
   },
   "outputs": [
    {
     "data": {
      "text/plain": [
       "CountVectorizer(analyzer=<function create_wordlist at 0x7fb9d06ded90>,\n",
       "        binary=False, decode_error='strict', dtype=<class 'numpy.int64'>,\n",
       "        encoding='utf-8', input='content', lowercase=True, max_df=1.0,\n",
       "        max_features=None, min_df=1, ngram_range=(1, 1), preprocessor=None,\n",
       "        stop_words=['あそこ', 'あたり', 'あちら', 'あっち', 'あと', 'あな', 'あなた', 'あれ', 'いくつ', 'いつ', 'いま', 'いや', 'いろいろ', 'うち', 'おおまか', 'おまえ', 'おれ', 'がい', 'かく', 'かたち', 'かやの', 'から', 'がら', 'きた', 'くせ', 'ここ', 'こっち', 'こと', 'ごと', 'こちら', 'ごっちゃ', 'これ', 'これら', 'ごろ', 'さまざま', 'さらい', 'さん', 'しかた', 'しよう', 'すか', 'ずつ', 'すね', 'すべて', 'ぜんぶ',...\"you're\", 'yours', 'yourself', 'yourselves', \"you've\", 'z', 'zero', 'RT', 'AbeShinzo', 'Prime_fake'],\n",
       "        strip_accents=None, token_pattern='(?u)\\\\b\\\\w\\\\w+\\\\b',\n",
       "        tokenizer=None, vocabulary=None)"
      ]
     },
     "execution_count": 26,
     "metadata": {},
     "output_type": "execute_result"
    }
   ],
   "source": [
    "cvec = CountVectorizer(analyzer=create_wordlist, stop_words=stopwords)\n",
    "cvec"
   ]
  },
  {
   "cell_type": "code",
   "execution_count": 27,
   "metadata": {
    "collapsed": false,
    "scrolled": true
   },
   "outputs": [],
   "source": [
    "# create pipeline\n",
    "rf = RandomForestClassifier(random_state=1021)\n",
    "pipe = Pipeline([('CountVectorizer', cvec), ('Imputer', imp), ('Classifier', rf)])"
   ]
  },
  {
   "cell_type": "code",
   "execution_count": 28,
   "metadata": {
    "collapsed": false
   },
   "outputs": [
    {
     "data": {
      "text/plain": [
       "GridSearchCV(cv=5, error_score='raise',\n",
       "       estimator=Pipeline(steps=[('CountVectorizer', CountVectorizer(analyzer=<function create_wordlist at 0x7fb9d06ded90>,\n",
       "        binary=False, decode_error='strict', dtype=<class 'numpy.int64'>,\n",
       "        encoding='utf-8', input='content', lowercase=True, max_df=1.0,\n",
       "        max_features=None, min_df=1, ngram_range=(1, 1), ...imators=10, n_jobs=1, oob_score=False, random_state=1021,\n",
       "            verbose=0, warm_start=False))]),\n",
       "       fit_params={}, iid=True, n_jobs=1,\n",
       "       param_grid={'Classifier__n_estimators': [200, 400, 600, 800, 1000], 'Classifier__max_features': ['sqrt'], 'Classifier__max_depth': [10, 50, None]},\n",
       "       pre_dispatch='2*n_jobs', refit=True, return_train_score=True,\n",
       "       scoring='accuracy', verbose=0)"
      ]
     },
     "execution_count": 28,
     "metadata": {},
     "output_type": "execute_result"
    }
   ],
   "source": [
    "# Number of trees in random forest\n",
    "n_estimators = [int(x) for x in np.linspace(start = 200, stop = 2000, num = 10)]\n",
    "# Number of features to consider at every split\n",
    "max_features = ['sqrt']\n",
    "# Maximum number of levels in tree\n",
    "max_depth = [int(x) for x in np.linspace(10, 110, num = 11)]\n",
    "max_depth.append(None)\n",
    "# Minimum number of samples required to split a node\n",
    "min_samples_split = [2, 5, 10]\n",
    "# Minimum number of samples required at each leaf node\n",
    "min_samples_leaf = [1, 2, 4]\n",
    "# Method of selecting samples for training each tree\n",
    "\n",
    "# Create the random grid\n",
    "params_cv = {\n",
    "    'Classifier__n_estimators': [200, 400, 600, 800, 1000],\n",
    "    'Classifier__max_features': ['sqrt'],\n",
    "    'Classifier__max_depth': [10, 50, None]\n",
    "}\n",
    "\n",
    "clf = GridSearchCV(estimator=pipe, param_grid=params_cv, scoring='accuracy', cv=5, verbose=0)\n",
    "clf.fit(X_train, y_train)\n",
    "#print('Best_estimator = {0}'.format(clf.best_estimator_.get_params()))"
   ]
  },
  {
   "cell_type": "code",
   "execution_count": 29,
   "metadata": {
    "collapsed": false
   },
   "outputs": [
    {
     "name": "stdout",
     "output_type": "stream",
     "text": [
      "GridSearchCV(cv=5, error_score='raise',\n",
      "       estimator=Pipeline(steps=[('CountVectorizer', CountVectorizer(analyzer=<function create_wordlist at 0x7fb9d06ded90>,\n",
      "        binary=False, decode_error='strict', dtype=<class 'numpy.int64'>,\n",
      "        encoding='utf-8', input='content', lowercase=True, max_df=1.0,\n",
      "        max_features=None, min_df=1, ngram_range=(1, 1), ...imators=10, n_jobs=1, oob_score=False, random_state=1021,\n",
      "            verbose=0, warm_start=False))]),\n",
      "       fit_params={}, iid=True, n_jobs=1,\n",
      "       param_grid={'Classifier__n_estimators': [200, 400, 600, 800, 1000], 'Classifier__max_features': ['sqrt'], 'Classifier__max_depth': [10, 50, None]},\n",
      "       pre_dispatch='2*n_jobs', refit=True, return_train_score=True,\n",
      "       scoring='accuracy', verbose=0)\n"
     ]
    }
   ],
   "source": [
    "print(clf)"
   ]
  },
  {
   "cell_type": "code",
   "execution_count": 30,
   "metadata": {
    "collapsed": false
   },
   "outputs": [
    {
     "data": {
      "text/plain": [
       "0.82608695652173914"
      ]
     },
     "execution_count": 30,
     "metadata": {},
     "output_type": "execute_result"
    }
   ],
   "source": [
    "clf.best_score_"
   ]
  },
  {
   "cell_type": "markdown",
   "metadata": {},
   "source": [
    "# 6. Evaluating model performance for testing data"
   ]
  },
  {
   "cell_type": "code",
   "execution_count": 31,
   "metadata": {
    "collapsed": true
   },
   "outputs": [],
   "source": [
    "# making predicttion for testing data by using the pipeline\n",
    "y_pred_class = clf.predict(X_test)\n",
    "y_pred_proba = clf.predict_proba(X_test)\n",
    "y_pred_proba = y_pred_proba[:,1]"
   ]
  },
  {
   "cell_type": "code",
   "execution_count": 32,
   "metadata": {
    "collapsed": false
   },
   "outputs": [
    {
     "name": "stdout",
     "output_type": "stream",
     "text": [
      "Test Accuracy:\t 0.834860173578\n",
      "Test AUC:\t 0.88507759498\n"
     ]
    }
   ],
   "source": [
    "print('Test Accuracy:\\t', metrics.accuracy_score(y_test=='realPM', y_pred_class=='realPM'))\n",
    "fpr, tpr, threshold = metrics.roc_curve(y_test=='realPM', y_pred_proba)\n",
    "print('Test AUC:\\t', metrics.auc(fpr, tpr))"
   ]
  },
  {
   "cell_type": "code",
   "execution_count": 33,
   "metadata": {
    "collapsed": false
   },
   "outputs": [
    {
     "data": {
      "image/png": "[encoded data removed]",
      "text/plain": [
       "<matplotlib.figure.Figure at 0x7fb98f2dcef0>"
      ]
     },
     "metadata": {},
     "output_type": "display_data"
    }
   ],
   "source": [
    "#plot ROC curve\n",
    "plt.figure(figsize=(8,6))\n",
    "plt.plot(fpr, tpr)\n",
    "plt.title(\"ROC curve\")\n",
    "plt.xlabel(\"False Positive Rate\")\n",
    "plt.ylabel(\"True Positive Rate\")\n",
    "plt.show()"
   ]
  }
 ],
 "metadata": {
  "kernelspec": {
   "display_name": "Python 3",
   "language": "python",
   "name": "python3"
  },
  "language_info": {
   "codemirror_mode": {
    "name": "ipython",
    "version": 3
   },
   "file_extension": ".py",
   "mimetype": "text/x-python",
   "name": "python",
   "nbconvert_exporter": "python",
   "pygments_lexer": "ipython3",
   "version": "3.6.0"
  }
 },
 "nbformat": 4,
 "nbformat_minor": 2
}
